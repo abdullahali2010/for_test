{
 "cells": [
  {
   "cell_type": "code",
   "execution_count": null,
   "metadata": {
    "vscode": {
     "languageId": "plaintext"
    }
   },
   "outputs": [],
   "source": [
    "# Import necessary libraries\n",
    "import pandas as pd\n",
    "import numpy as np\n",
    "import seaborn as sns\n",
    "import matplotlib.pyplot as plt\n",
    "from sklearn.model_selection import train_test_split\n",
    "from sklearn.ensemble import RandomForestClassifier\n",
    "from sklearn.metrics import classification_report\n",
    "\n",
    "# Load the dataset\n",
    "df = pd.read_csv(\"data/breast_cancer_data.csv\")\n",
    "\n",
    "# Data Preprocessing\n",
    "# Handling missing values, feature encoding, etc.\n",
    "df = df.fillna(df.mean())  # Example to fill missing data\n",
    "\n",
    "# Exploratory Data Analysis (EDA)\n",
    "sns.pairplot(df)\n",
    "plt.show()\n",
    "\n",
    "# Splitting the data into train and test sets\n",
    "X = df.drop('recurrence', axis=1)\n",
    "y = df['recurrence']\n",
    "X_train, X_test, y_train, y_test = train_test_split(X, y, test_size=0.2, random_state=42)\n",
    "\n",
    "# Modeling: Using Random Forest for classification\n",
    "model = RandomForestClassifier(n_estimators=100, random_state=42)\n",
    "model.fit(X_train, y_train)\n",
    "\n",
    "# Evaluate the model\n",
    "y_pred = model.predict(X_test)\n",
    "print(classification_report(y_test, y_pred))\n",
    "\n",
    "# Visualize feature importance\n",
    "feature_importances = model.feature_importances_\n",
    "sns.barplot(x=X.columns, y=feature_importances)\n",
    "plt.show()\n",
    "\n"
   ]
  }
 ],
 "metadata": {
  "language_info": {
   "name": "python"
  }
 },
 "nbformat": 4,
 "nbformat_minor": 2
}
